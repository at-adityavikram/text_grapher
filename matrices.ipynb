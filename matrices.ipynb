{
 "cells": [
  {
   "cell_type": "markdown",
   "metadata": {},
   "source": [
    "## Matrices"
   ]
  },
  {
   "cell_type": "code",
   "execution_count": 10,
   "metadata": {},
   "outputs": [],
   "source": [
    "IDENTITY = [[1, 0, 0, 0],\n",
    "            [0, 1, 0, 0],\n",
    "            [0, 0, 1, 0],\n",
    "            [0, 0, 0, 1]]"
   ]
  },
  {
   "cell_type": "code",
   "execution_count": 11,
   "metadata": {},
   "outputs": [],
   "source": [
    "def matrix_product(A, B):\n",
    "    \n",
    "    C = [[0 for i in A] for j in B]\n",
    "    \n",
    "    for i in range(len(A)):\n",
    "        \n",
    "        for j in range(len(B[0])):\n",
    "            \n",
    "            for k in range(len(B)):\n",
    "\n",
    "                C[i][j] += A[i][k] * B[k][j]\n",
    "    \n",
    "    return C"
   ]
  },
  {
   "cell_type": "markdown",
   "metadata": {},
   "source": [
    "I'll test my matrix product function on an example of non-commutativity from the [wikipedia page about matrix multiplication](https://en.wikipedia.org/wiki/Matrix_multiplication). `A * B != B * A`"
   ]
  },
  {
   "cell_type": "code",
   "execution_count": 12,
   "metadata": {},
   "outputs": [
    {
     "data": {
      "text/plain": [
       "True"
      ]
     },
     "execution_count": 12,
     "metadata": {},
     "output_type": "execute_result"
    }
   ],
   "source": [
    "A = [[0, 1],\n",
    "     [1, 0]]\n",
    "\n",
    "B = [[0, 0],\n",
    "     [1, 0]]\n",
    "\n",
    "C = [[1, 0],\n",
    "     [0, 0]]\n",
    "\n",
    "matrix_product(A, B) == C"
   ]
  },
  {
   "cell_type": "code",
   "execution_count": 13,
   "metadata": {},
   "outputs": [
    {
     "data": {
      "text/plain": [
       "True"
      ]
     },
     "execution_count": 13,
     "metadata": {},
     "output_type": "execute_result"
    }
   ],
   "source": [
    "D = [[0, 0],\n",
    "     [0, 1]]\n",
    "\n",
    "matrix_product(B, A) == D"
   ]
  },
  {
   "cell_type": "markdown",
   "metadata": {},
   "source": [
    "hurray it works!"
   ]
  },
  {
   "cell_type": "markdown",
   "metadata": {},
   "source": [
    "the following function creates a returns a new matrix after applying a given transformation."
   ]
  },
  {
   "cell_type": "code",
   "execution_count": 14,
   "metadata": {},
   "outputs": [],
   "source": [
    "def m_rotate(matrix, rotation=(0, 0, 0)):\n",
    "    x, y, z = rotation\n",
    "\n",
    "    rot_x = [[1, 0, 0, 0],\n",
    "             [0, cos(x), sin(x), 0],\n",
    "             [0, -sin(x), cos(x), 0],\n",
    "             [0, 0, 0, 1]]\n",
    "\n",
    "    rot_y = [[cos(y), 0, -sin(y), 0],\n",
    "             [0, 1, 0, 0],\n",
    "             [sin(y), 0, cos(y), 0],\n",
    "             [0, 0, 0, 1]]\n",
    "\n",
    "    rot_z = [[+cos(z), +sin(z), 0, 0],\n",
    "             [-sin(z), +cos(z), 0, 0],\n",
    "             [0, 0, 1, 0],\n",
    "             [0, 0, 0, 1]]\n",
    "\n",
    "    p = matrix_product(matrix, rot_x)\n",
    "    p = matrix_product(p, rot_y)\n",
    "    p = matrix_product(p, rot_z)\n",
    "\n",
    "    return p"
   ]
  },
  {
   "cell_type": "markdown",
   "metadata": {},
   "source": [
    "The following cell creates a rotation matrix that, when applied, rotates the space clockwise by 45 degrees."
   ]
  },
  {
   "cell_type": "code",
   "execution_count": 15,
   "metadata": {},
   "outputs": [
    {
     "data": {
      "text/plain": [
       "[[0.0002963267905598908, 0.9999999560952156, 0.0, 0.0],\n",
       " [-0.9999999560952156, 0.0002963267905598908, 0.0, 0.0],\n",
       " [0.0, 0.0, 1.0, 0.0],\n",
       " [0.0, 0.0, 0.0, 1.0]]"
      ]
     },
     "execution_count": 15,
     "metadata": {},
     "output_type": "execute_result"
    }
   ],
   "source": [
    "R = m_rotate(IDENTITY, (0,0,3.141 / 2))\n",
    "R"
   ]
  },
  {
   "cell_type": "markdown",
   "metadata": {},
   "source": [
    "Let's try it with the point `(5, 5, 0)` we expect 45 degrees to land this in the lower right quadrant."
   ]
  },
  {
   "cell_type": "code",
   "execution_count": 16,
   "metadata": {
    "scrolled": false
   },
   "outputs": [
    {
     "data": {
      "text/plain": [
       "[[5.001481414428878, 0, 0, 0],\n",
       " [-4.998518146523279, 0, 0, 0],\n",
       " [0.0, 0, 0, 0],\n",
       " [1.0, 0, 0, 0]]"
      ]
     },
     "execution_count": 16,
     "metadata": {},
     "output_type": "execute_result"
    }
   ],
   "source": [
    "P = [[5],\n",
    "     [5],\n",
    "     [0],\n",
    "     [1]]\n",
    "\n",
    "matrix_product(R, P)"
   ]
  },
  {
   "cell_type": "markdown",
   "metadata": {},
   "source": [
    "yey! that point is in the lower right quadrant!!"
   ]
  },
  {
   "cell_type": "code",
   "execution_count": null,
   "metadata": {},
   "outputs": [],
   "source": []
  }
 ],
 "metadata": {
  "kernelspec": {
   "display_name": "Python 3",
   "language": "python",
   "name": "python3"
  },
  "language_info": {
   "codemirror_mode": {
    "name": "ipython",
    "version": 3
   },
   "file_extension": ".py",
   "mimetype": "text/x-python",
   "name": "python",
   "nbconvert_exporter": "python",
   "pygments_lexer": "ipython3",
   "version": "3.7.3"
  }
 },
 "nbformat": 4,
 "nbformat_minor": 4
}
